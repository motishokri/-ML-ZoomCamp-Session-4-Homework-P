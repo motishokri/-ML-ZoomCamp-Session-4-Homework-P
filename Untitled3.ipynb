{
  "nbformat": 4,
  "nbformat_minor": 0,
  "metadata": {
    "colab": {
      "provenance": [],
      "authorship_tag": "ABX9TyP5VTMSt8PKWzj5TnvG28XZ",
      "include_colab_link": true
    },
    "kernelspec": {
      "name": "python3",
      "display_name": "Python 3"
    },
    "language_info": {
      "name": "python"
    }
  },
  "cells": [
    {
      "cell_type": "markdown",
      "metadata": {
        "id": "view-in-github",
        "colab_type": "text"
      },
      "source": [
        "<a href=\"https://colab.research.google.com/github/motishokri/-ML-ZoomCamp-Session-4-Homework-P/blob/main/Untitled3.ipynb\" target=\"_parent\"><img src=\"https://colab.research.google.com/assets/colab-badge.svg\" alt=\"Open In Colab\"/></a>"
      ]
    },
    {
      "cell_type": "code",
      "execution_count": 2,
      "metadata": {
        "id": "nF7AHvP4vi26",
        "colab": {
          "base_uri": "https://localhost:8080/"
        },
        "outputId": "ae1c2ad3-b082-44ab-d0eb-a9b4968b0062"
      },
      "outputs": [
        {
          "output_type": "stream",
          "name": "stdout",
          "text": [
            "Looking in indexes: https://pypi.org/simple, https://us-python.pkg.dev/colab-wheels/public/simple/\n",
            "Collecting scikit-fuzzy\n",
            "  Downloading scikit-fuzzy-0.4.2.tar.gz (993 kB)\n",
            "\u001b[2K     \u001b[90m━━━━━━━━━━━━━━━━━━━━━━━━━━━━━━━━━━━━━━\u001b[0m \u001b[32m994.0/994.0 kB\u001b[0m \u001b[31m15.7 MB/s\u001b[0m eta \u001b[36m0:00:00\u001b[0m\n",
            "\u001b[?25h  Preparing metadata (setup.py) ... \u001b[?25l\u001b[?25hdone\n",
            "Requirement already satisfied: numpy>=1.6.0 in /usr/local/lib/python3.10/dist-packages (from scikit-fuzzy) (1.22.4)\n",
            "Requirement already satisfied: scipy>=0.9.0 in /usr/local/lib/python3.10/dist-packages (from scikit-fuzzy) (1.10.1)\n",
            "Requirement already satisfied: networkx>=1.9.0 in /usr/local/lib/python3.10/dist-packages (from scikit-fuzzy) (3.1)\n",
            "Building wheels for collected packages: scikit-fuzzy\n",
            "  Building wheel for scikit-fuzzy (setup.py) ... \u001b[?25l\u001b[?25hdone\n",
            "  Created wheel for scikit-fuzzy: filename=scikit_fuzzy-0.4.2-py3-none-any.whl size=894073 sha256=066502b08c0bfa6b8b4400bd43483ad3f33c5e93130c7a80c246a06e8c9f3897\n",
            "  Stored in directory: /root/.cache/pip/wheels/4f/86/1b/dfd97134a2c8313e519bcebd95d3fedc7be7944db022094bc8\n",
            "Successfully built scikit-fuzzy\n",
            "Installing collected packages: scikit-fuzzy\n",
            "Successfully installed scikit-fuzzy-0.4.2\n"
          ]
        }
      ],
      "source": [
        "!pip install scikit-fuzzy\n"
      ]
    },
    {
      "cell_type": "code",
      "source": [
        "import pandas as pd\n",
        "from sklearn.metrics import accuracy_score, precision_score, recall_score, f1_score\n",
        "from skfuzzy import control as ctrl\n",
        "import skfuzzy as fuzz\n",
        "from sklearn.model_selection import train_test_split\n",
        "import numpy as np\n",
        "import matplotlib.pyplot as plt"
      ],
      "metadata": {
        "id": "ELy0gaTUv1jo"
      },
      "execution_count": 3,
      "outputs": []
    },
    {
      "cell_type": "code",
      "source": [
        "# خواندن دیتاست تیروئید\n",
        "data = pd.read_csv('thyroid.csv')"
      ],
      "metadata": {
        "id": "qvZNQe4xwFlQ"
      },
      "execution_count": 5,
      "outputs": []
    },
    {
      "cell_type": "code",
      "source": [
        "# تقسیم داده‌ها به ویژگی‌ها و برچسب‌ها\n",
        "X = data[['age', 'tsh', 't3', 'tt4', 'fti']]\n",
        "y = data['class']"
      ],
      "metadata": {
        "id": "213kgt7lwKGY"
      },
      "execution_count": 6,
      "outputs": []
    },
    {
      "cell_type": "code",
      "source": [
        "# تقسیم داده‌ها به داده‌های آموزشی و داده‌های آزمون\n",
        "X_train, X_test, y_train, y_test = train_test_split(X, y, test_size=0.2, random_state=42)"
      ],
      "metadata": {
        "id": "mteKzx3_wNPs"
      },
      "execution_count": 7,
      "outputs": []
    },
    {
      "cell_type": "code",
      "source": [
        "# ایجاد یک مدل استنتاج فازی\n",
        "# fis = FIS()\n",
        "# تعریف متغیرهای ورودی\n",
        "age = ctrl.Antecedent([0, 100], 'age')\n",
        "tsh = ctrl.Antecedent([0, 10], 'tsh')\n",
        "t3 = ctrl.Antecedent([0, 10], 't3')\n",
        "tt4 = ctrl.Antecedent([0, 50], 'tt4')\n",
        "fti = ctrl.Antecedent([0, 50], 'fti')\n",
        "diagnosis = ctrl.Consequent([0, 100], 'diagnosis')\n",
        "\n",
        "# تعریف متغیر خروجی\n",
        "class_variable = ctrl.Consequent(['normal', 'hypothyroidism', 'hyperthyroidism'], 'class')\n"
      ],
      "metadata": {
        "id": "NPoNycSNxN_7"
      },
      "execution_count": 8,
      "outputs": []
    },
    {
      "cell_type": "code",
      "source": [
        "# اضافه کردن توابع عضویت به ورودی \n",
        "\n",
        "# تعریف توابع عضویت برای هر متغیر\n",
        "age['young'] =  fuzz.trapmf(age.universe, [0, 0, 25, 50])    #ذوزنقه\n",
        "age['middle'] = fuzz.trimf(age.universe, [30, 50, 70])       #مثلث\n",
        "age['old'] = fuzz.trapmf(age.universe, [50, 75, 100, 100])   #ذوزنقه\n",
        "\n",
        "# اضافه کردن توابع عضویت به ورودی 'tsh'\n",
        "\n",
        "\n",
        "tsh['low']  = fuzz.trapmf(tsh.universe, [0, 0, 0, 0.5])           #ذوزنقه\n",
        "tsh['normal']  = fuzz.trimf(tsh.universe, [0.4, 3, 5.5])        #مثلث\n",
        "tsh['high'] = fuzz.trapmf(tsh.universe, [0.5, 0.5, 5.5, 5.5])   #ذوزنقه\n",
        "\n",
        "\n",
        "# اضافه کردن توابع عضویت به ورودی 't3'\n",
        "\n",
        "t3['low'] = fuzz.trapmf(t3.universe, [0, 0, 90, 90])\n",
        "t3['normal'] = fuzz.trimf(t3.universe, [90, 145, 200])\n",
        "t3['high'] = fuzz.trapmf(t3.universe, [200, 200, np.inf, np.inf])\n",
        "\n",
        "\n",
        "# اضافه کردن توابع عضویت به ورودی 'tt4'\n",
        "\n",
        "tt4['low'] = fuzz.trapmf(tt4.universe, [0.5, 0.5, 50, 50])\n",
        "tt4['normal'] = fuzz.trimf(tt4.universe, [0.5, 2.5, 4.5])\n",
        "tt4['high'] =  fuzz.trapmf(tt4.universe, [0.5, 2.5, 4.5, 50])\n",
        "\n",
        "# اضافه کردن توابع عضویت به ورودی 'fti'\n",
        "\n",
        "fti['low'] = fuzz.trapmf(fti.universe, [0, 0, 11, 11]) \n",
        "fti['normal'] = fuzz.trimf(fti.universe, [11, 16, 21])\n",
        "fti['high'] =   fuzz.trapmf(fti.universe, [21, 21, 30, 30])\n",
        "\n",
        "# اضافه کردن توابع عضویت به خروجی 'result'\n",
        "diagnosis['hyperthyroidism'] =  fuzz.trimf(diagnosis.universe, [0, 0, 10]) \n",
        "diagnosis['normal'] = fuzz.trimf(diagnosis.universe, [10, 10, 20]) \n",
        "diagnosis['hypothyroidism'] =  fuzz.trimf(diagnosis.universe, [20, 25, 30])\n"
      ],
      "metadata": {
        "id": "X0evKolVx5UQ"
      },
      "execution_count": 10,
      "outputs": []
    }
  ]
}